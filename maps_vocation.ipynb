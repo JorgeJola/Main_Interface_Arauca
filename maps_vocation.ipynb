{
 "cells": [
  {
   "cell_type": "code",
   "execution_count": 1,
   "id": "3f5d339b",
   "metadata": {},
   "outputs": [],
   "source": [
    "import geopandas as gpd\n",
    "import matplotlib.pyplot as plt"
   ]
  },
  {
   "cell_type": "markdown",
   "id": "93e89be2",
   "metadata": {},
   "source": [
    "## Vocation Map"
   ]
  },
  {
   "cell_type": "code",
   "execution_count": 6,
   "id": "75eae323",
   "metadata": {},
   "outputs": [
    {
     "name": "stderr",
     "output_type": "stream",
     "text": [
      "/var/folders/j9/v4x3hnqx5mx5xp1r2572v97c0000gn/T/ipykernel_8597/167422703.py:19: UserWarning: Geometry is in a geographic CRS. Results from 'centroid' are likely incorrect. Use 'GeoSeries.to_crs()' to re-project geometries to a projected CRS before this operation.\n",
      "\n",
      "  m = folium.Map(location=[gdf.geometry.centroid.y.mean(), gdf.geometry.centroid.x.mean()+0.6], zoom_start=9)\n",
      "/var/folders/j9/v4x3hnqx5mx5xp1r2572v97c0000gn/T/ipykernel_8597/167422703.py:20: UserWarning: Geometry is in a geographic CRS. Results from 'centroid' are likely incorrect. Use 'GeoSeries.to_crs()' to re-project geometries to a projected CRS before this operation.\n",
      "\n",
      "  print(gdf.geometry.centroid.x.mean())\n"
     ]
    },
    {
     "name": "stdout",
     "output_type": "stream",
     "text": [
      "-71.50555756982949\n"
     ]
    }
   ],
   "source": [
    "import geopandas as gpd\n",
    "import folium\n",
    "\n",
    "# Diccionario de colores según la vocación\n",
    "class_colors = {\n",
    "    'Agroforestry': '#5ab4ac',\n",
    "    'Water body': '#377eb8',\n",
    "    'Agricultural': '#a1d76a',\n",
    "    'Soil Conservation': '#e9a3c9',\n",
    "    'Forestry': '#7fbf7b',\n",
    "    'Livestock': '#fc8d59',\n",
    "    'Urban areas': '#d8b365'\n",
    "}\n",
    "\n",
    "# Función para crear el mapa interactivo\n",
    "# Función para crear el mapa interactivo\n",
    "def create_folium_map(gdf):\n",
    "    gdf = gdf.to_crs(epsg=4326)\n",
    "    m = folium.Map(location=[gdf.geometry.centroid.y.mean(), gdf.geometry.centroid.x.mean()+0.6], zoom_start=9)\n",
    "    print(gdf.geometry.centroid.x.mean())\n",
    "    \n",
    "    # Crear las geometrías con su color sin los bordes\n",
    "    for _, row in gdf.iterrows():\n",
    "        color = class_colors.get(row['Vocation'], '#808080')  # Color por defecto si no está mapeado\n",
    "        folium.GeoJson(\n",
    "            row['geometry'],\n",
    "            style_function=lambda feature, color=color: {\n",
    "                'fillColor': color,\n",
    "                'color': 'transparent',  # Eliminar el borde\n",
    "                'weight': 0,  # Eliminar el grosor del borde\n",
    "                'fillOpacity': 0.7\n",
    "            },\n",
    "            tooltip=folium.Tooltip(f\"Vocation: {row['Vocation']}\")\n",
    "        ).add_to(m)\n",
    "\n",
    "    # Crear la leyenda en HTML\n",
    "    legend_html = '''\n",
    "        <div style=\"position: fixed; \n",
    "                    bottom: 620px; left: 1200px; width: 130px; height: 170px; \n",
    "                    background-color: white; z-index:9999; font-size:8px;\n",
    "                    border:2px solid grey; padding: 10px;\">\n",
    "            <b>Vocation</b><br>\n",
    "            <i style=\"background-color:#5ab4ac; width: 15px; height: 15px; display: inline-block; border: 1px solid black;\"></i> Agroforestry<br>\n",
    "            <i style=\"background-color:#377eb8; width: 15px; height: 15px; display: inline-block; border: 1px solid black;\"></i> Water body<br>\n",
    "            <i style=\"background-color:#a1d76a; width: 15px; height: 15px; display: inline-block; border: 1px solid black;\"></i> Agricultural<br>\n",
    "            <i style=\"background-color:#e9a3c9; width: 15px; height: 15px; display: inline-block; border: 1px solid black;\"></i> Soil Conservation<br>\n",
    "            <i style=\"background-color:#7fbf7b; width: 15px; height: 15px; display: inline-block; border: 1px solid black;\"></i> Forestry<br>\n",
    "            <i style=\"background-color:#fc8d59; width: 15px; height: 15px; display: inline-block; border: 1px solid black;\"></i> Livestock<br>\n",
    "            <i style=\"background-color:#d8b365; width: 15px; height: 15px; display: inline-block; border: 1px solid black;\"></i> Urban areas<br>\n",
    "        </div>\n",
    "    '''\n",
    "\n",
    "    # Agregar la leyenda al mapa\n",
    "    m.get_root().html.add_child(folium.Element(legend_html))\n",
    "\n",
    "    return m\n",
    "\n",
    "\n",
    "# -----------------------\n",
    "# Leer el shapefile\n",
    "shapefile_path = \"/Users/jorgeandresjolahernandez/Desktop/Main_Interface_Arauca/static/vocation/vocation_Arauca.shp\"  # Reemplaza esta ruta\n",
    "gdf = gpd.read_file(shapefile_path)\n",
    "\n",
    "# Mostrar el mapa directamente\n",
    "m=create_folium_map(gdf)\n"
   ]
  },
  {
   "cell_type": "code",
   "execution_count": 7,
   "id": "7386550c",
   "metadata": {},
   "outputs": [],
   "source": [
    "m.save(\"/Users/jorgeandresjolahernandez/Desktop/Main_Interface_Arauca/static/vocation/vocation.html\")"
   ]
  },
  {
   "cell_type": "markdown",
   "id": "01443f5a",
   "metadata": {},
   "source": [
    "## Ambiental Offer"
   ]
  },
  {
   "cell_type": "code",
   "execution_count": 10,
   "id": "2b0ead06",
   "metadata": {},
   "outputs": [
    {
     "name": "stderr",
     "output_type": "stream",
     "text": [
      "/var/folders/j9/v4x3hnqx5mx5xp1r2572v97c0000gn/T/ipykernel_10377/3274391867.py:20: UserWarning: Geometry is in a geographic CRS. Results from 'centroid' are likely incorrect. Use 'GeoSeries.to_crs()' to re-project geometries to a projected CRS before this operation.\n",
      "\n",
      "  m = folium.Map(location=[gdf.geometry.centroid.y.mean(), gdf.geometry.centroid.x.mean()+0.3], zoom_start=9)\n",
      "/var/folders/j9/v4x3hnqx5mx5xp1r2572v97c0000gn/T/ipykernel_10377/3274391867.py:21: UserWarning: Geometry is in a geographic CRS. Results from 'centroid' are likely incorrect. Use 'GeoSeries.to_crs()' to re-project geometries to a projected CRS before this operation.\n",
      "\n",
      "  print(gdf.geometry.centroid.x.mean())\n"
     ]
    },
    {
     "name": "stdout",
     "output_type": "stream",
     "text": [
      "-71.06381922174523\n"
     ]
    }
   ],
   "source": [
    "import geopandas as gpd\n",
    "import folium\n",
    "\n",
    "# Diccionario de colores según la vocación\n",
    "class_colors = {\n",
    "    'Agroforestry': '#5ab4ac',\n",
    "    'Water body': '#377eb8',\n",
    "    'Agricultural': '#a1d76a',\n",
    "    'Soil Conservation': '#e9a3c9',\n",
    "    'Forestry': '#7fbf7b',\n",
    "    'Legal Protection Areas': '#756bb1',\n",
    "    'Livestock': '#fc8d59',\n",
    "    'Urban areas': '#d8b365'\n",
    "}\n",
    "\n",
    "# Función para crear el mapa interactivo\n",
    "# Función para crear el mapa interactivo\n",
    "def create_folium_map(gdf):\n",
    "    gdf = gdf.to_crs(epsg=4326)\n",
    "    m = folium.Map(location=[gdf.geometry.centroid.y.mean(), gdf.geometry.centroid.x.mean()+0.3], zoom_start=9)\n",
    "    print(gdf.geometry.centroid.x.mean())\n",
    "    \n",
    "    # Crear las geometrías con su color sin los bordes\n",
    "    for _, row in gdf.iterrows():\n",
    "        color = class_colors.get(row['Vocation'], '#808080')  # Color por defecto si no está mapeado\n",
    "        folium.GeoJson(\n",
    "            row['geometry'],\n",
    "            style_function=lambda feature, color=color: {\n",
    "                'fillColor': color,\n",
    "                'color': 'transparent',  # Eliminar el borde\n",
    "                'weight': 0,  # Eliminar el grosor del borde\n",
    "                'fillOpacity': 0.7\n",
    "            },\n",
    "            tooltip=folium.Tooltip(f\"Ambiental Offer: {row['Vocation']}\")\n",
    "        ).add_to(m)\n",
    "\n",
    "    # Crear la leyenda en HTML\n",
    "    legend_html = '''\n",
    "        <div style=\"position: fixed; \n",
    "                    bottom: 620px; left: 1200px; width: 130px; height: 170px; \n",
    "                    background-color: white; z-index:9999; font-size:8px;\n",
    "                    border:2px solid grey; padding: 10px;\">>\n",
    "            <b>Ambiental Offer</b><br>\n",
    "            <i style=\"background-color:#5ab4ac; width: 15px; height: 15px; display: inline-block; border: 1px solid black;\"></i> Agroforestry<br>\n",
    "            <i style=\"background-color:#377eb8; width: 15px; height: 15px; display: inline-block; border: 1px solid black;\"></i> Water body<br>\n",
    "            <i style=\"background-color:#a1d76a; width: 15px; height: 15px; display: inline-block; border: 1px solid black;\"></i> Agricultural<br>\n",
    "            <i style=\"background-color:#e9a3c9; width: 15px; height: 15px; display: inline-block; border: 1px solid black;\"></i> Soil Conservation<br>\n",
    "            <i style=\"background-color:#7fbf7b; width: 15px; height: 15px; display: inline-block; border: 1px solid black;\"></i> Forestry<br>\n",
    "            <i style=\"background-color:#756bb1; width: 15px; height: 15px; display: inline-block; border: 1px solid black;\"></i> Legal Protection Areas<br>\n",
    "            <i style=\"background-color:#fc8d59; width: 15px; height: 15px; display: inline-block; border: 1px solid black;\"></i> Livestock<br>\n",
    "            <i style=\"background-color:#d8b365; width: 15px; height: 15px; display: inline-block; border: 1px solid black;\"></i> Urban areas<br>\n",
    "        </div>\n",
    "    '''\n",
    "\n",
    "    # Agregar la leyenda al mapa\n",
    "    m.get_root().html.add_child(folium.Element(legend_html))\n",
    "\n",
    "    return m\n",
    "\n",
    "\n",
    "# -----------------------\n",
    "# Leer el shapefile\n",
    "shapefile_path = \"/Users/jorgeandresjolahernandez/Desktop/Main_Interface_Arauca/static/vocation/ambiental_offer.geojson\"  # Reemplaza esta ruta\n",
    "gdf = gpd.read_file(shapefile_path)\n",
    "\n",
    "# Mostrar el mapa directamente\n",
    "m=create_folium_map(gdf)"
   ]
  },
  {
   "cell_type": "code",
   "execution_count": 11,
   "id": "6762deaf",
   "metadata": {},
   "outputs": [],
   "source": [
    "m.save(\"/Users/jorgeandresjolahernandez/Desktop/Main_Interface_Arauca/static/vocation/amb_offer.html\")"
   ]
  }
 ],
 "metadata": {
  "kernelspec": {
   "display_name": "Python 3",
   "language": "python",
   "name": "python3"
  },
  "language_info": {
   "codemirror_mode": {
    "name": "ipython",
    "version": 3
   },
   "file_extension": ".py",
   "mimetype": "text/x-python",
   "name": "python",
   "nbconvert_exporter": "python",
   "pygments_lexer": "ipython3",
   "version": "3.12.3"
  }
 },
 "nbformat": 4,
 "nbformat_minor": 5
}
